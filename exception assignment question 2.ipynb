{
 "cells": [
  {
   "cell_type": "markdown",
   "id": "129ab5d6-48a9-40ff-95f3-18f241b79103",
   "metadata": {},
   "source": [
    "Q1. Explain why we have to use the Exception class while creating a Custom Exception.\n",
    "Note: Here Exception class refers to the base class for all the exceptions."
   ]
  },
  {
   "cell_type": "code",
   "execution_count": 5,
   "id": "dd39d71c-9654-49fb-aa2e-2a2827b77424",
   "metadata": {},
   "outputs": [],
   "source": [
    "# Suppose we are like some code, then we have to tell where and what type of exceptions are likely to come, \n",
    "# then we will put exceptions according to the usage, which we will call \"custom exceptions\"."
   ]
  },
  {
   "cell_type": "code",
   "execution_count": 33,
   "id": "9ef0eb8f-22ad-4751-84e8-489e52c82ac7",
   "metadata": {},
   "outputs": [
    {
     "name": "stdout",
     "output_type": "stream",
     "text": [
      "12.375\n",
      "9\n",
      "Error: cannot add an int and a str\n"
     ]
    }
   ],
   "source": [
    "# program \n",
    "try:\n",
    "     my_number = 99/8\n",
    "except:\n",
    "    print(\"This number is not divisble Thankyou\")\n",
    "else:\n",
    "    print(my_number)\n",
    "\n",
    "\n",
    "x = 5\n",
    "y = 4\n",
    "try:\n",
    "    z = x + y\n",
    "except :\n",
    "    print(\"Error: cannot add an int and a str\")\n",
    "else:\n",
    "    print(z)\n",
    "    \n",
    "x = 5\n",
    "y = 'PINKU'\n",
    "try:\n",
    "    z = x + y\n",
    "except :\n",
    "    print(\"Error: cannot add an int and a str\")\n",
    "else:\n",
    "    print(z)\n",
    "    \n",
    "    \n",
    "# this we can say is custom exception block then execute with definition"
   ]
  },
  {
   "cell_type": "markdown",
   "id": "f3206ace-0d90-4fa7-ab7a-ea31bb584563",
   "metadata": {},
   "source": [
    "Q2. Write a python program to print Python Exception Hierarchy."
   ]
  },
  {
   "cell_type": "code",
   "execution_count": null,
   "id": "6694ac5c-8f2b-4a9d-9cb6-eb2914a0bdaf",
   "metadata": {},
   "outputs": [],
   "source": []
  },
  {
   "cell_type": "code",
   "execution_count": 38,
   "id": "cd694f5b-0cd4-4b4d-bc22-b2a2f1621e6f",
   "metadata": {},
   "outputs": [
    {
     "name": "stdout",
     "output_type": "stream",
     "text": [
      "'key2'\n"
     ]
    }
   ],
   "source": [
    "try:\n",
    "    d={\"key\":\"Computer\",1:[1,2,3,4,5,6,7,8,9,10]}\n",
    "    print(d[\"key2\"])\n",
    "except KeyError as e:\n",
    "    print(e)"
   ]
  },
  {
   "cell_type": "markdown",
   "id": "3ac62661-1bd0-4b2b-875e-9c1d00c84061",
   "metadata": {},
   "source": [
    "Q3. What errors are defined in the ArithmeticError class? Explain any two with an example."
   ]
  },
  {
   "cell_type": "code",
   "execution_count": 40,
   "id": "f46b2fa8-fed9-44a0-be97-7a716577b005",
   "metadata": {},
   "outputs": [
    {
     "name": "stdout",
     "output_type": "stream",
     "text": [
      "10\n",
      "20\n",
      "30\n"
     ]
    }
   ],
   "source": [
    "# Example - 1 \n",
    "try:\n",
    "    a=10\n",
    "    b=20\n",
    "    c=30\n",
    "    print(a)\n",
    "    print(b)\n",
    "    print(c)\n",
    "except NameError as e:\n",
    "    print(e)"
   ]
  },
  {
   "cell_type": "code",
   "execution_count": 41,
   "id": "476d789a-7aa7-49d7-9a31-24f052206d57",
   "metadata": {},
   "outputs": [
    {
     "name": "stdout",
     "output_type": "stream",
     "text": [
      "division by zero\n"
     ]
    }
   ],
   "source": [
    "# example - 2\n",
    "try:\n",
    "    a = 3/0\n",
    "    print(a)\n",
    "except ArithmeticError as e:\n",
    "    print(e)"
   ]
  },
  {
   "cell_type": "markdown",
   "id": "0b7231da-4323-4a22-9bb3-687c7d19f39e",
   "metadata": {},
   "source": [
    "Q4. Why LookupError class is used? Explain with an example KeyError and IndexError."
   ]
  },
  {
   "cell_type": "code",
   "execution_count": 48,
   "id": "6715d040-83b5-4d54-9e15-848caa9e0321",
   "metadata": {},
   "outputs": [
    {
     "name": "stdout",
     "output_type": "stream",
     "text": [
      "list index out of range\n"
     ]
    }
   ],
   "source": [
    "# 1 example 'Indexerror'\n",
    "try:\n",
    "    l=[1,2,3,4,5,6]\n",
    "    print(l[7])\n",
    "except IndexError as e:\n",
    "    print (e)"
   ]
  },
  {
   "cell_type": "code",
   "execution_count": 51,
   "id": "3662abf2-95eb-4b20-9e3d-3f8c895e1300",
   "metadata": {},
   "outputs": [
    {
     "name": "stdout",
     "output_type": "stream",
     "text": [
      "2\n"
     ]
    }
   ],
   "source": [
    "# 2 example 'Keyeror'\n",
    "try:\n",
    "    d={\"key\":100,1:[1,2,3,4,5,6,7,8,9,10]}\n",
    "    print(d[2])\n",
    "except KeyError as e:\n",
    "    print(e)"
   ]
  },
  {
   "cell_type": "markdown",
   "id": "785d720f-cd30-4005-afe5-519cb962a6ed",
   "metadata": {},
   "source": [
    "Q5. Explain ImportError. What is ModuleNotFoundError?"
   ]
  },
  {
   "cell_type": "code",
   "execution_count": 52,
   "id": "1e8c3eb9-4dfa-4ed6-90b3-c9562f4294fe",
   "metadata": {},
   "outputs": [
    {
     "name": "stdout",
     "output_type": "stream",
     "text": [
      "No module named 'pinku'\n"
     ]
    }
   ],
   "source": [
    "# import error --  we can say import error find that this module is support python or not if supprt then import if not support then print no module\n",
    "# example we can understabd\n",
    "try :\n",
    "    import pinku\n",
    "except ImportError as e:\n",
    "    print(e)"
   ]
  },
  {
   "cell_type": "code",
   "execution_count": 63,
   "id": "02c4aecb-42ad-47f3-932f-627bd376d3c0",
   "metadata": {},
   "outputs": [
    {
     "name": "stdout",
     "output_type": "stream",
     "text": [
      "No module named 'google.com'\n",
      "this is ModuleNotFoundError\n"
     ]
    }
   ],
   "source": [
    "# MModuleNotFoundError \n",
    "# program \n",
    "try :\n",
    "    import google.com\n",
    "except ImportError as e:\n",
    "    print(e)\n",
    "    print(\"this is ModuleNotFoundError\")"
   ]
  },
  {
   "cell_type": "markdown",
   "id": "11927cd9-8183-4e42-bd5f-4581ae6cc75a",
   "metadata": {},
   "source": [
    "Q6. List down some best practices for exception handling in python."
   ]
  },
  {
   "cell_type": "code",
   "execution_count": 61,
   "id": "249b30e9-ea68-4440-8e14-afe6e33005e6",
   "metadata": {},
   "outputs": [],
   "source": [
    "# List down some best practices for exception handling\n",
    "# NameError\n",
    "# ImportError\n",
    "# FileNotFoundError\n",
    "# KeyError\n",
    "# IndexError\n",
    "# IndentationError\n",
    "# AttributeError\n",
    "# ModuleNotFoundError\n",
    "# ArArithmeticError\n",
    "# KeyeTypeError\n",
    "# ValValueError\n",
    "# ZeroDivisionError"
   ]
  },
  {
   "cell_type": "code",
   "execution_count": null,
   "id": "86f1085e-652e-4bcd-954b-9134b53cd5e6",
   "metadata": {},
   "outputs": [],
   "source": []
  }
 ],
 "metadata": {
  "kernelspec": {
   "display_name": "Python 3 (ipykernel)",
   "language": "python",
   "name": "python3"
  },
  "language_info": {
   "codemirror_mode": {
    "name": "ipython",
    "version": 3
   },
   "file_extension": ".py",
   "mimetype": "text/x-python",
   "name": "python",
   "nbconvert_exporter": "python",
   "pygments_lexer": "ipython3",
   "version": "3.10.8"
  }
 },
 "nbformat": 4,
 "nbformat_minor": 5
}
